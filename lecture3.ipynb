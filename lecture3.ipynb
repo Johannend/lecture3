{
 "cells": [
  {
   "cell_type": "markdown",
   "id": "7130d808",
   "metadata": {
    "slideshow": {
     "slide_type": "subslide"
    }
   },
   "source": [
    "<div class='bar_title'></div>\n",
    "\n",
    "*Simulation for Decision Making (S4DM)*\n",
    "\n",
    "# 3. Building Simulation Models with Python\n",
    "\n",
    "Gunther Gust & Ignacio Ubeda <br>\n",
    "Chair for Enterprise AI <br>\n",
    "Data Driven Decisions Group <br>\n",
    "Center for Artificial Intelligence and Data Science (CAIDAS)"
   ]
  },
  {
   "cell_type": "markdown",
   "id": "56a5929f",
   "metadata": {},
   "source": [
    "<img src=\"images/d3.png\" style=\"width:20%; float:left;\" />"
   ]
  },
  {
   "cell_type": "markdown",
   "id": "44bf5ae0",
   "metadata": {},
   "source": [
    "<img src=\"images/CAIDASlogo.png\" style=\"width:20%; float:left;\" />"
   ]
  },
  {
   "cell_type": "markdown",
   "id": "bc71b395",
   "metadata": {
    "slideshow": {
     "slide_type": "slide"
    }
   },
   "source": [
    "<img src=\"images/simulation_study_steps.png\" style=\"width:100%; float:left;\" />"
   ]
  },
  {
   "cell_type": "markdown",
   "id": "7f0d1873",
   "metadata": {
    "slideshow": {
     "slide_type": "slide"
    }
   },
   "source": [
    "# Last lecture\n",
    "\n",
    "* Introduction to Simpy\n",
    "* Simpy processes as python generator functions\n",
    "* Process interactions: One process calls a subsequent process\n",
    "  * Battery electric vehicle example (driving and charging processes)\n",
    "* Shared Resources\n",
    "   * Carwash example (requesting a slot in the carwash)"
   ]
  },
  {
   "cell_type": "markdown",
   "id": "4a7c307e",
   "metadata": {
    "slideshow": {
     "slide_type": "slide"
    }
   },
   "source": [
    "# Agenda for today\n",
    "\n",
    "* Condition events\n",
    "* Example 1: Bank renege\n",
    "* Custom triggering of events\n",
    "* Example 2: Movie renege\n",
    "\n",
    "Credits: The following content is adapted from the official [Simpy documentation](https://simpy.readthedocs.io/en/latest/simpy_intro/index.html) "
   ]
  },
  {
   "cell_type": "markdown",
   "id": "43e32057",
   "metadata": {
    "slideshow": {
     "slide_type": "slide"
    }
   },
   "source": [
    "## Condition events"
   ]
  },
  {
   "cell_type": "markdown",
   "id": "4af2ec4b",
   "metadata": {
    "slideshow": {
     "slide_type": "slide"
    }
   },
   "source": [
    "Sometimes, you want to wait for more than one event at the same time: \n",
    "* For example, you may want to wait for a resource, but __not for an unlimited amount of time__\n",
    "    * E.g., customers may want to wait at most 10 minutes\n"
   ]
  },
  {
   "cell_type": "markdown",
   "id": "c30d95c8",
   "metadata": {
    "slideshow": {
     "slide_type": "fragment"
    }
   },
   "source": [
    "* Or you may want to wait until a __set__ of events has happened\n",
    "    * E.g., customers may not proceed until they have received two orders (such as food and drinks)"
   ]
  },
  {
   "cell_type": "markdown",
   "id": "9196a12c",
   "metadata": {
    "slideshow": {
     "slide_type": "fragment"
    }
   },
   "source": [
    "SimPy therefore offers the `AnyOf` and `AllOf` events which both are a Condition event."
   ]
  },
  {
   "cell_type": "code",
   "execution_count": 1,
   "id": "0730e22d",
   "metadata": {},
   "outputs": [],
   "source": [
    "import simpy\n",
    "import random"
   ]
  },
  {
   "cell_type": "code",
   "execution_count": 2,
   "id": "ab564a32",
   "metadata": {
    "slideshow": {
     "slide_type": "slide"
    }
   },
   "outputs": [],
   "source": [
    "from simpy.events import AnyOf, AllOf, Event\n",
    "\n",
    "env = simpy.Environment()"
   ]
  },
  {
   "cell_type": "code",
   "execution_count": 3,
   "id": "a49db26b",
   "metadata": {
    "slideshow": {
     "slide_type": "fragment"
    }
   },
   "outputs": [
    {
     "name": "stdout",
     "output_type": "stream",
     "text": [
      "<ConditionValue {<Timeout(1, value=spam) object at 0x21d77698b80>: 'spam'}>\n"
     ]
    }
   ],
   "source": [
    "def test_condition1a(env):\n",
    "    t1, t2 = env.timeout(1, value='spam'), env.timeout(2, value='eggs')\n",
    "    events = [t1, t2]\n",
    "    ret = yield AnyOf(env, events)\n",
    "    print(ret)\n",
    "\n",
    "proc = env.process(test_condition1a(env))\n",
    "env.run()\n"
   ]
  },
  {
   "cell_type": "markdown",
   "id": "9346cb6e",
   "metadata": {
    "slideshow": {
     "slide_type": "slide"
    }
   },
   "source": [
    "As a shorthand for `AnyOf` and `AllOf`, you can also use the logical operators `&` (and) and `|` (or):"
   ]
  },
  {
   "cell_type": "code",
   "execution_count": 4,
   "id": "3592a11e",
   "metadata": {
    "slideshow": {
     "slide_type": "fragment"
    }
   },
   "outputs": [
    {
     "name": "stdout",
     "output_type": "stream",
     "text": [
      "<ConditionValue {<Timeout(1, value=spam) object at 0x21d77698520>: 'spam'}>\n"
     ]
    }
   ],
   "source": [
    "def test_condition1b(env):\n",
    "    t1, t2 = env.timeout(1, value='spam'), env.timeout(2, value='eggs')\n",
    "    ret = yield t1 | t2\n",
    "    print(ret)\n",
    "\n",
    "proc = env.process(test_condition1b(env))\n",
    "env.run()"
   ]
  },
  {
   "cell_type": "code",
   "execution_count": 5,
   "id": "19dba1d7",
   "metadata": {
    "slideshow": {
     "slide_type": "slide"
    }
   },
   "outputs": [
    {
     "name": "stdout",
     "output_type": "stream",
     "text": [
      "<ConditionValue {<Timeout(1, value=spam) object at 0x21d776c94f0>: 'spam', <Timeout(2, value=eggs) object at 0x21d776982b0>: 'eggs'}>\n"
     ]
    }
   ],
   "source": [
    "def test_condition2a(env):\n",
    "    t1, t2 = env.timeout(1, value='spam'), env.timeout(2, value='eggs')\n",
    "    events = [t1, t2]\n",
    "    ret = yield AllOf(env, events)\n",
    "    print(ret)\n",
    "\n",
    "proc = env.process(test_condition2a(env))\n",
    "env.run()"
   ]
  },
  {
   "cell_type": "code",
   "execution_count": 6,
   "id": "05f1bc3b",
   "metadata": {
    "slideshow": {
     "slide_type": "slide"
    }
   },
   "outputs": [
    {
     "name": "stdout",
     "output_type": "stream",
     "text": [
      "<ConditionValue {<Timeout(1, value=spam) object at 0x21d776c9370>: 'spam', <Timeout(2, value=eggs) object at 0x21d776c9400>: 'eggs'}>\n"
     ]
    }
   ],
   "source": [
    "def test_condition2b(env):\n",
    "    t1, t2 = env.timeout(1, value='spam'), env.timeout(2, value='eggs')\n",
    "    ret = yield t1 & t2\n",
    "    print(ret)\n",
    "\n",
    "proc = env.process(test_condition2b(env))\n",
    "env.run()"
   ]
  },
  {
   "cell_type": "code",
   "execution_count": 7,
   "id": "b587e18a",
   "metadata": {
    "slideshow": {
     "slide_type": "slide"
    }
   },
   "outputs": [
    {
     "name": "stdout",
     "output_type": "stream",
     "text": [
      "<ConditionValue {<Timeout(1, value=1) object at 0x21d7763ea90>: 1, <Timeout(2, value=2) object at 0x21d7763e070>: 2}>\n"
     ]
    }
   ],
   "source": [
    "def test_condition3a(env):\n",
    "    e1, e2, e3 = env.timeout(1, value = 1), env.timeout(2, value = 2), env.timeout(3, value = 3)\n",
    "    ret = yield (e1 & e2) | e3\n",
    "    print(ret)\n",
    "\n",
    "proc = env.process(test_condition3a(env))\n",
    "env.run()"
   ]
  },
  {
   "cell_type": "markdown",
   "id": "5a3d9277",
   "metadata": {
    "slideshow": {
     "slide_type": "slide"
    }
   },
   "source": [
    "`AnyOf` and `AllOf` take a list of events as an argument and are triggered when any (at least one) or all of them are triggered."
   ]
  },
  {
   "cell_type": "markdown",
   "id": "88bb3f45",
   "metadata": {
    "slideshow": {
     "slide_type": "fragment"
    }
   },
   "source": [
    "The value of a condition event is an ordered dictionary with an entry for every triggered event. \n",
    "* In the case of `AllOf`, the size of that dictionary will always be the same as the length of the event list. \n",
    "* The value dict of `AnyOf` will have at least one entry. \n",
    "\n",
    "In both cases, the event instances are used as keys and the event values will be the values."
   ]
  },
  {
   "cell_type": "markdown",
   "id": "9fbe7dd9",
   "metadata": {
    "slideshow": {
     "slide_type": "slide"
    }
   },
   "source": [
    "The order of condition results is identical to the order in which the condition events were specified.\n",
    "\n",
    "This allows the following idiom for conveniently fetching the values of multiple events specified in an `&` condition (including `AllOf`):"
   ]
  },
  {
   "cell_type": "code",
   "execution_count": 8,
   "id": "a434ebca",
   "metadata": {
    "slideshow": {
     "slide_type": "fragment"
    }
   },
   "outputs": [
    {
     "name": "stdout",
     "output_type": "stream",
     "text": [
      "spam eggs\n"
     ]
    }
   ],
   "source": [
    "def fetch_values_of_multiple_events(env):\n",
    "    t1, t2 = env.timeout(1, value='spam'), env.timeout(2, value='eggs')\n",
    "    r1, r2 = (yield t1 & t2).values()\n",
    "    print(r1, r2)\n",
    "\n",
    "proc = env.process(fetch_values_of_multiple_events(env))\n",
    "env.run()"
   ]
  },
  {
   "cell_type": "markdown",
   "id": "2859e44d",
   "metadata": {
    "slideshow": {
     "slide_type": "slide"
    }
   },
   "source": [
    "__Control questions (now it's your turn):__\n",
    "1. Implement `test_condition3b`, that is identical to `test_condition3a` but uses a combination of `AnyOf` and `AllOf`\n",
    "2. Modify `test_condition2b` so that the value of the events are printed (analogously to `fetch_values_of_multiple_events`)\n",
    "3. Make the duration of the timeout events in `test_condition1b` random (`random.random()` generates a random number between 0 and 1). Then, repeatedly execute `test_condition1b` and check which event has been triggered first. "
   ]
  },
  {
   "cell_type": "markdown",
   "id": "797c4013",
   "metadata": {
    "slideshow": {
     "slide_type": "slide"
    }
   },
   "source": [
    "## Example: Bank renege"
   ]
  },
  {
   "cell_type": "markdown",
   "id": "18b80d2a",
   "metadata": {
    "slideshow": {
     "slide_type": "slide"
    }
   },
   "source": [
    "## Scenario\n",
    "\n",
    "* Customers randomly arrive at a bank and want to be served (e.g. to withdraw money)"
   ]
  },
  {
   "cell_type": "markdown",
   "id": "d2b60309",
   "metadata": {
    "slideshow": {
     "slide_type": "fragment"
    }
   },
   "source": [
    "* The Bank has one counter with a random service time"
   ]
  },
  {
   "cell_type": "markdown",
   "id": "8a2ff698",
   "metadata": {
    "slideshow": {
     "slide_type": "fragment"
    }
   },
   "source": [
    "* The customers form a queue in front of the counter"
   ]
  },
  {
   "cell_type": "markdown",
   "id": "8d921f57",
   "metadata": {
    "slideshow": {
     "slide_type": "fragment"
    }
   },
   "source": [
    "* Each customer has a certain willingness to wait. If his/her patience is exceeded, he/she reneges (leaves the queue) without being served"
   ]
  },
  {
   "cell_type": "markdown",
   "id": "63264535",
   "metadata": {
    "slideshow": {
     "slide_type": "slide"
    }
   },
   "source": [
    "## Resource (bank counter):"
   ]
  },
  {
   "cell_type": "code",
   "execution_count": 9,
   "id": "73e48fc7",
   "metadata": {
    "slideshow": {
     "slide_type": "fragment"
    }
   },
   "outputs": [],
   "source": [
    "class BankCounter:\n",
    "\n",
    "    def __init__(self, env, mean_serving_time):\n",
    "        self.env = env\n",
    "        self.counter = simpy.Resource(env, capacity=1)\n",
    "        self.mean_serving_time = mean_serving_time\n",
    "\n",
    "    def serve_customer(self):\n",
    "        #Assumption: Exponentially distributed serving time with mean = 1/mean_serving_time\n",
    "        serving_time = random.expovariate(1.0 / self.mean_serving_time) \n",
    "        yield self.env.timeout(serving_time)"
   ]
  },
  {
   "cell_type": "markdown",
   "id": "6125a770",
   "metadata": {
    "slideshow": {
     "slide_type": "slide"
    }
   },
   "source": [
    "## Entities (customers):"
   ]
  },
  {
   "cell_type": "code",
   "execution_count": 10,
   "id": "cb23562c",
   "metadata": {
    "slideshow": {
     "slide_type": "fragment"
    }
   },
   "outputs": [],
   "source": [
    "class Customer:\n",
    "    def __init__(self, env, name, patience):\n",
    "        self.env = env\n",
    "        self.name = name\n",
    "        self.patience = patience\n",
    "\n",
    "    def run(self, bank_counter):\n",
    "        arrive = self.env.now\n",
    "        print(f'{arrive:.4f} {self.name}: Here I am')\n",
    "    \n",
    "        with bank_counter.counter.request() as req:\n",
    "                       \n",
    "            # Wait for the counter or abort at the end of our tether\n",
    "            results = yield req | self.env.timeout(self.patience)\n",
    "            \n",
    "            wait = self.env.now - arrive\n",
    "\n",
    "            if req in results:\n",
    "                # We got to the counter\n",
    "                print(f'{self.env.now:.4f} {self.name}: Waited {wait:.3f}')\n",
    "                yield self.env.process(bank_counter.serve_customer())\n",
    "                print(f'{self.env.now:.4f} {self.name}: Finished')\n",
    "\n",
    "            else:\n",
    "                # We reneged\n",
    "                print(f'{self.env.now:.4f} {self.name}: RENEGED after {wait:.3f}')"
   ]
  },
  {
   "cell_type": "markdown",
   "id": "c0ef5674",
   "metadata": {
    "slideshow": {
     "slide_type": "fragment"
    }
   },
   "source": [
    "## Entity Generation"
   ]
  },
  {
   "cell_type": "code",
   "execution_count": 11,
   "id": "512d277e",
   "metadata": {
    "slideshow": {
     "slide_type": "fragment"
    }
   },
   "outputs": [],
   "source": [
    "def customer_generator(env, number, interval, bank_counter):\n",
    "    \"\"\"Source generates customers randomly\"\"\"\n",
    "    for i in range(number):\n",
    "        patience = random.uniform(MIN_PATIENCE, MAX_PATIENCE)\n",
    "        customer = Customer(env, f'Customer{(i+1):02d}', patience)\n",
    "        env.process(customer.run(bank_counter))\n",
    "        t = random.expovariate(1.0 / interval)\n",
    "        yield env.timeout(t)"
   ]
  },
  {
   "cell_type": "markdown",
   "id": "bf069764",
   "metadata": {
    "slideshow": {
     "slide_type": "slide"
    }
   },
   "source": [
    "## Setup of simulation"
   ]
  },
  {
   "cell_type": "code",
   "execution_count": 12,
   "id": "8010deeb",
   "metadata": {
    "slideshow": {
     "slide_type": "fragment"
    }
   },
   "outputs": [
    {
     "data": {
      "text/plain": [
       "<Process(customer_generator) object at 0x21d777a29d0>"
      ]
     },
     "execution_count": 12,
     "metadata": {},
     "output_type": "execute_result"
    }
   ],
   "source": [
    "RANDOM_SEED = 42\n",
    "NEW_CUSTOMERS = 5  # Total number of customers\n",
    "INTERVAL_CUSTOMERS = 10 # Generate new customers roughly every INTERVAL_CUSTOMERS minutes\n",
    "MIN_PATIENCE = 1  # Min. customer patience (minutes)\n",
    "MAX_PATIENCE = 3  # Max. customer patience (minutes)\n",
    "SERVING_TIME = 12.0 # Mean serving time: SERVING_TIME minutes\n",
    "\n",
    "random.seed(RANDOM_SEED)  # This helps to reproduce the results\n",
    "\n",
    "env = simpy.Environment()\n",
    "bank_counter = BankCounter(env, SERVING_TIME) #define resources\n",
    "env.process(customer_generator(env, NEW_CUSTOMERS, INTERVAL_CUSTOMERS, bank_counter))#customer generation\n"
   ]
  },
  {
   "cell_type": "code",
   "execution_count": 13,
   "id": "6bc0157d",
   "metadata": {
    "slideshow": {
     "slide_type": "fragment"
    }
   },
   "outputs": [
    {
     "name": "stdout",
     "output_type": "stream",
     "text": [
      "Running Simulation...\n",
      "0.0000 Customer01: Here I am\n",
      "0.0000 Customer01: Waited 0.000\n",
      "0.2533 Customer02: Here I am\n",
      "1.6997 Customer02: RENEGED after 1.446\n",
      "3.8595 Customer01: Finished\n",
      "13.5892 Customer03: Here I am\n",
      "13.5892 Customer03: Waited 0.000\n",
      "14.6806 Customer03: Finished\n",
      "35.8621 Customer04: Here I am\n",
      "35.8621 Customer04: Waited 0.000\n",
      "36.1646 Customer05: Here I am\n",
      "38.1753 Customer05: RENEGED after 2.011\n",
      "38.8227 Customer04: Finished\n",
      "... Done\n"
     ]
    }
   ],
   "source": [
    "# Execute\n",
    "print('Running Simulation...')\n",
    "env.run()\n",
    "print('... Done')"
   ]
  },
  {
   "cell_type": "markdown",
   "id": "9cf7c620",
   "metadata": {
    "slideshow": {
     "slide_type": "slide"
    }
   },
   "source": [
    "__Control questions (now it's your turn):__\n",
    "1. Reduce the arrival interval of customers, so that more customers enter the queue and renege\n",
    "2. Implement a procedure that tracks the fraction of customers that have reneged. Print this number at the end of the simulation\n",
    "3. Change other parameters of the simulation (e.g. the number of servers, the serving time and the patience). Evaluate the effect on the share of reneged customers"
   ]
  },
  {
   "cell_type": "markdown",
   "id": "914a7338",
   "metadata": {},
   "source": [
    "# Custom triggering of events"
   ]
  },
  {
   "cell_type": "markdown",
   "id": "cb1627a9",
   "metadata": {
    "slideshow": {
     "slide_type": "slide"
    }
   },
   "source": [
    "Simpy offers the functionality to manually generate events via `Event.event()`. Then, we can later manually trigger these events: "
   ]
  },
  {
   "cell_type": "markdown",
   "id": "881124eb",
   "metadata": {
    "slideshow": {
     "slide_type": "fragment"
    }
   },
   "source": [
    "* To trigger an event and mark it as successful, you can use `Event.succeed(value=None)`. You can optionally pass a value to it (e.g., the results of a computation)."
   ]
  },
  {
   "cell_type": "markdown",
   "id": "98f53589",
   "metadata": {
    "slideshow": {
     "slide_type": "fragment"
    }
   },
   "source": [
    "* To trigger an event and mark it as failed, call `Event.fail(exception)` and pass an Exception instance to it (e.g., the exception you caught during your failed computation)."
   ]
  },
  {
   "cell_type": "markdown",
   "id": "18fa7582",
   "metadata": {
    "slideshow": {
     "slide_type": "fragment"
    }
   },
   "source": [
    "* There is also a generic way to trigger an event: `Event.trigger(event).` This will take the value and outcome (success or failure) of the event passed to it."
   ]
  },
  {
   "cell_type": "markdown",
   "id": "f9878c6a",
   "metadata": {},
   "source": [
    "For now, we will just make use of `Event.succeed()`. Let's have a look at an example:"
   ]
  },
  {
   "cell_type": "markdown",
   "id": "0b42a954",
   "metadata": {
    "slideshow": {
     "slide_type": "slide"
    }
   },
   "source": [
    "# Example "
   ]
  },
  {
   "cell_type": "code",
   "execution_count": 70,
   "id": "26fc7137",
   "metadata": {
    "slideshow": {
     "slide_type": "fragment"
    }
   },
   "outputs": [],
   "source": [
    "class School:\n",
    "    def __init__(self, env):\n",
    "        self.env = env\n",
    "        self.courses = env.process(self.course())\n",
    "        self.class_ends = env.event()\n",
    "      \n",
    "\n",
    "    def course(self):\n",
    "        print(\"Class starts\")\n",
    "        yield self.env.timeout(45)# classes for 45 minutes\n",
    "        self.class_ends.succeed()# manually let the event happen\n",
    "        print(\"Bell rings\")"
   ]
  },
  {
   "cell_type": "code",
   "execution_count": 75,
   "id": "e8a81e38",
   "metadata": {
    "slideshow": {
     "slide_type": "slide"
    }
   },
   "outputs": [],
   "source": [
    "class Student:\n",
    "    def __init__(self, env, school):\n",
    "        self.env = env\n",
    "        self.process = env.process(self.study(school))\n",
    "    \n",
    "    def study(self, school):\n",
    "        print(\"Studying\")\n",
    "        yield school.class_ends #study (or sleep) until the class_ends event happens\n",
    "        print('\\o/') #celebrate!"
   ]
  },
  {
   "cell_type": "code",
   "execution_count": 76,
   "id": "7afcc3cb",
   "metadata": {
    "slideshow": {
     "slide_type": "slide"
    }
   },
   "outputs": [
    {
     "name": "stdout",
     "output_type": "stream",
     "text": [
      "Class starts\n",
      "Studying\n",
      "Studying\n",
      "Studying\n",
      "Studying\n",
      "Studying\n",
      "Studying\n",
      "Studying\n",
      "Studying\n",
      "Studying\n",
      "Studying\n",
      "Bell rings\n",
      "\\o/\n",
      "\\o/\n",
      "\\o/\n",
      "\\o/\n",
      "\\o/\n",
      "\\o/\n",
      "\\o/\n",
      "\\o/\n",
      "\\o/\n",
      "\\o/\n"
     ]
    }
   ],
   "source": [
    "env = simpy.Environment()\n",
    "school = School(env)\n",
    "for i in range(10):\n",
    "    Student(env, school)\n",
    "env.run()"
   ]
  },
  {
   "cell_type": "markdown",
   "id": "07906e5e",
   "metadata": {},
   "source": [
    "\n",
    "<img src=\"images/d3.png\" style=\"width:50%; float:center;\" />\n"
   ]
  }
 ],
 "metadata": {
  "celltoolbar": "Slideshow",
  "kernelspec": {
   "display_name": "Python 3 (ipykernel)",
   "language": "python",
   "name": "python3"
  },
  "language_info": {
   "codemirror_mode": {
    "name": "ipython",
    "version": 3
   },
   "file_extension": ".py",
   "mimetype": "text/x-python",
   "name": "python",
   "nbconvert_exporter": "python",
   "pygments_lexer": "ipython3",
   "version": "3.9.13"
  }
 },
 "nbformat": 4,
 "nbformat_minor": 5
}
